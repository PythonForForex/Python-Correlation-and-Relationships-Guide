{
 "cells": [
  {
   "cell_type": "code",
   "execution_count": 1,
   "metadata": {},
   "outputs": [],
   "source": [
    "import pandas as pd\n",
    "from alpha_vantage.timeseries import TimeSeries"
   ]
  },
  {
   "cell_type": "code",
   "execution_count": 2,
   "metadata": {},
   "outputs": [],
   "source": [
    "#grab tickers from csv file\n",
    "watchlist_df = pd.read_csv('watchlist.csv', header=None)\n",
    "watchlist = watchlist_df.iloc[0].tolist()"
   ]
  },
  {
   "cell_type": "code",
   "execution_count": 3,
   "metadata": {},
   "outputs": [
    {
     "data": {
      "text/plain": [
       "['AAPL', 'ADBE', 'AMD', 'MSFT', 'NFLX']"
      ]
     },
     "execution_count": 3,
     "metadata": {},
     "output_type": "execute_result"
    }
   ],
   "source": [
    "watchlist"
   ]
  },
  {
   "cell_type": "code",
   "execution_count": 4,
   "metadata": {},
   "outputs": [],
   "source": [
    "'''instantiate TimeSeries class from alpha_vantage library\n",
    "you must have API keys stored as environment variables for this to work\n",
    "check out the Alpha Vantage guide on the AlgoTrading 101 blog for more details'''\n",
    "app = TimeSeries(output_format='pandas')"
   ]
  },
  {
   "cell_type": "code",
   "execution_count": 5,
   "metadata": {},
   "outputs": [],
   "source": [
    "#itter through watchlist and retrieve daily price data\n",
    "stocks_df = pd.DataFrame()\n",
    "for ticker in watchlist:\n",
    "    alphav_df = app.get_daily_adjusted(ticker)\n",
    "    alphav_df = alphav_df[0]\n",
    "    alphav_df.columns = [i.split(' ')[1] for i in alphav_df.columns]\n",
    "\n",
    "    stocks_df[ticker] = alphav_df['adjusted'].pct_change()"
   ]
  },
  {
   "cell_type": "code",
   "execution_count": 6,
   "metadata": {},
   "outputs": [
    {
     "data": {
      "text/html": [
       "<div>\n",
       "<style scoped>\n",
       "    .dataframe tbody tr th:only-of-type {\n",
       "        vertical-align: middle;\n",
       "    }\n",
       "\n",
       "    .dataframe tbody tr th {\n",
       "        vertical-align: top;\n",
       "    }\n",
       "\n",
       "    .dataframe thead th {\n",
       "        text-align: right;\n",
       "    }\n",
       "</style>\n",
       "<table border=\"1\" class=\"dataframe\">\n",
       "  <thead>\n",
       "    <tr style=\"text-align: right;\">\n",
       "      <th></th>\n",
       "      <th>AAPL</th>\n",
       "      <th>ADBE</th>\n",
       "      <th>AMD</th>\n",
       "      <th>MSFT</th>\n",
       "      <th>NFLX</th>\n",
       "    </tr>\n",
       "    <tr>\n",
       "      <th>date</th>\n",
       "      <th></th>\n",
       "      <th></th>\n",
       "      <th></th>\n",
       "      <th></th>\n",
       "      <th></th>\n",
       "    </tr>\n",
       "  </thead>\n",
       "  <tbody>\n",
       "    <tr>\n",
       "      <th>2020-04-29</th>\n",
       "      <td>NaN</td>\n",
       "      <td>NaN</td>\n",
       "      <td>NaN</td>\n",
       "      <td>NaN</td>\n",
       "      <td>NaN</td>\n",
       "    </tr>\n",
       "    <tr>\n",
       "      <th>2020-04-28</th>\n",
       "      <td>-0.031801</td>\n",
       "      <td>-0.045021</td>\n",
       "      <td>0.034476</td>\n",
       "      <td>-0.042947</td>\n",
       "      <td>-0.019568</td>\n",
       "    </tr>\n",
       "    <tr>\n",
       "      <th>2020-04-27</th>\n",
       "      <td>0.016476</td>\n",
       "      <td>0.045134</td>\n",
       "      <td>0.017654</td>\n",
       "      <td>0.024969</td>\n",
       "      <td>0.043459</td>\n",
       "    </tr>\n",
       "    <tr>\n",
       "      <th>2020-04-24</th>\n",
       "      <td>-0.000706</td>\n",
       "      <td>-0.012626</td>\n",
       "      <td>-0.005488</td>\n",
       "      <td>0.002873</td>\n",
       "      <td>0.008567</td>\n",
       "    </tr>\n",
       "    <tr>\n",
       "      <th>2020-04-23</th>\n",
       "      <td>-0.028060</td>\n",
       "      <td>-0.025371</td>\n",
       "      <td>-0.004984</td>\n",
       "      <td>-0.017932</td>\n",
       "      <td>0.004024</td>\n",
       "    </tr>\n",
       "  </tbody>\n",
       "</table>\n",
       "</div>"
      ],
      "text/plain": [
       "                AAPL      ADBE       AMD      MSFT      NFLX\n",
       "date                                                        \n",
       "2020-04-29       NaN       NaN       NaN       NaN       NaN\n",
       "2020-04-28 -0.031801 -0.045021  0.034476 -0.042947 -0.019568\n",
       "2020-04-27  0.016476  0.045134  0.017654  0.024969  0.043459\n",
       "2020-04-24 -0.000706 -0.012626 -0.005488  0.002873  0.008567\n",
       "2020-04-23 -0.028060 -0.025371 -0.004984 -0.017932  0.004024"
      ]
     },
     "execution_count": 6,
     "metadata": {},
     "output_type": "execute_result"
    }
   ],
   "source": [
    "stocks_df.head()"
   ]
  },
  {
   "cell_type": "code",
   "execution_count": 7,
   "metadata": {},
   "outputs": [
    {
     "data": {
      "text/plain": [
       "0.8784037571217244"
      ]
     },
     "execution_count": 7,
     "metadata": {},
     "output_type": "execute_result"
    }
   ],
   "source": [
    "#AAPL correlation with ADBE\n",
    "stocks_df.AAPL.corr(stocks_df.ADBE)"
   ]
  },
  {
   "cell_type": "code",
   "execution_count": 8,
   "metadata": {},
   "outputs": [
    {
     "data": {
      "text/plain": [
       "0.6658107939470779"
      ]
     },
     "execution_count": 8,
     "metadata": {},
     "output_type": "execute_result"
    }
   ],
   "source": [
    "#AAPL correlation with NFLX\n",
    "stocks_df.AAPL.corr(stocks_df.NFLX)"
   ]
  },
  {
   "cell_type": "code",
   "execution_count": 9,
   "metadata": {},
   "outputs": [
    {
     "data": {
      "text/plain": [
       "0.3988868274582561"
      ]
     },
     "execution_count": 9,
     "metadata": {},
     "output_type": "execute_result"
    }
   ],
   "source": [
    "#correlation using kendall method\n",
    "stocks_df.AAPL.corr(stocks_df.NFLX, method='kendall')"
   ]
  },
  {
   "cell_type": "code",
   "execution_count": 10,
   "metadata": {},
   "outputs": [
    {
     "data": {
      "text/plain": [
       "0.548930117501546"
      ]
     },
     "execution_count": 10,
     "metadata": {},
     "output_type": "execute_result"
    }
   ],
   "source": [
    "#correlation using spearman method\n",
    "stocks_df.AAPL.corr(stocks_df.NFLX, method='spearman')"
   ]
  },
  {
   "cell_type": "code",
   "execution_count": 12,
   "metadata": {},
   "outputs": [
    {
     "data": {
      "text/html": [
       "<div>\n",
       "<style scoped>\n",
       "    .dataframe tbody tr th:only-of-type {\n",
       "        vertical-align: middle;\n",
       "    }\n",
       "\n",
       "    .dataframe tbody tr th {\n",
       "        vertical-align: top;\n",
       "    }\n",
       "\n",
       "    .dataframe thead th {\n",
       "        text-align: right;\n",
       "    }\n",
       "</style>\n",
       "<table border=\"1\" class=\"dataframe\">\n",
       "  <thead>\n",
       "    <tr style=\"text-align: right;\">\n",
       "      <th></th>\n",
       "      <th>AAPL</th>\n",
       "      <th>ADBE</th>\n",
       "      <th>AMD</th>\n",
       "      <th>MSFT</th>\n",
       "      <th>NFLX</th>\n",
       "    </tr>\n",
       "  </thead>\n",
       "  <tbody>\n",
       "    <tr>\n",
       "      <th>AAPL</th>\n",
       "      <td>1.000000</td>\n",
       "      <td>0.878404</td>\n",
       "      <td>0.791425</td>\n",
       "      <td>0.931861</td>\n",
       "      <td>0.665811</td>\n",
       "    </tr>\n",
       "    <tr>\n",
       "      <th>ADBE</th>\n",
       "      <td>0.878404</td>\n",
       "      <td>1.000000</td>\n",
       "      <td>0.786803</td>\n",
       "      <td>0.923112</td>\n",
       "      <td>0.780611</td>\n",
       "    </tr>\n",
       "    <tr>\n",
       "      <th>AMD</th>\n",
       "      <td>0.791425</td>\n",
       "      <td>0.786803</td>\n",
       "      <td>1.000000</td>\n",
       "      <td>0.810465</td>\n",
       "      <td>0.682898</td>\n",
       "    </tr>\n",
       "    <tr>\n",
       "      <th>MSFT</th>\n",
       "      <td>0.931861</td>\n",
       "      <td>0.923112</td>\n",
       "      <td>0.810465</td>\n",
       "      <td>1.000000</td>\n",
       "      <td>0.708690</td>\n",
       "    </tr>\n",
       "    <tr>\n",
       "      <th>NFLX</th>\n",
       "      <td>0.665811</td>\n",
       "      <td>0.780611</td>\n",
       "      <td>0.682898</td>\n",
       "      <td>0.708690</td>\n",
       "      <td>1.000000</td>\n",
       "    </tr>\n",
       "  </tbody>\n",
       "</table>\n",
       "</div>"
      ],
      "text/plain": [
       "          AAPL      ADBE       AMD      MSFT      NFLX\n",
       "AAPL  1.000000  0.878404  0.791425  0.931861  0.665811\n",
       "ADBE  0.878404  1.000000  0.786803  0.923112  0.780611\n",
       "AMD   0.791425  0.786803  1.000000  0.810465  0.682898\n",
       "MSFT  0.931861  0.923112  0.810465  1.000000  0.708690\n",
       "NFLX  0.665811  0.780611  0.682898  0.708690  1.000000"
      ]
     },
     "execution_count": 12,
     "metadata": {},
     "output_type": "execute_result"
    }
   ],
   "source": [
    "#correlation matrix\n",
    "stocks_df.corr()"
   ]
  },
  {
   "cell_type": "code",
   "execution_count": 14,
   "metadata": {},
   "outputs": [
    {
     "data": {
      "image/png": "[encoded data removed]",
      "text/plain": [
       "<Figure size 432x288 with 2 Axes>"
      ]
     },
     "metadata": {
      "needs_background": "light"
     },
     "output_type": "display_data"
    }
   ],
   "source": [
    "import seaborn as sns\n",
    "ax = sns.heatmap(stocks_df.corr())"
   ]
  },
  {
   "cell_type": "code",
   "execution_count": 16,
   "metadata": {},
   "outputs": [
    {
     "data": {
      "image/png": "[encoded data removed]",
      "text/plain": [
       "<Figure size 432x288 with 2 Axes>"
      ]
     },
     "metadata": {
      "needs_background": "light"
     },
     "output_type": "display_data"
    }
   ],
   "source": [
    "ax = sns.heatmap(stocks_df.corr(), cmap='RdYlGn', linewidths=.1)"
   ]
  },
  {
   "cell_type": "code",
   "execution_count": 17,
   "metadata": {},
   "outputs": [
    {
     "name": "stdout",
     "output_type": "stream",
     "text": [
      "ADBE\n"
     ]
    }
   ],
   "source": [
    "#strongest correlated stock with Netflix\n",
    "nflx_corr_df = stocks_df.corr().NFLX\n",
    "print(nflx_corr_df[ nflx_corr_df < 1 ].idxmax())"
   ]
  },
  {
   "cell_type": "code",
   "execution_count": 19,
   "metadata": {},
   "outputs": [
    {
     "name": "stdout",
     "output_type": "stream",
     "text": [
      "AAPL\n"
     ]
    }
   ],
   "source": [
    "#least correlated with Netflix\n",
    "print(nflx_corr_df.idxmin())"
   ]
  },
  {
   "cell_type": "code",
   "execution_count": 20,
   "metadata": {},
   "outputs": [
    {
     "data": {
      "text/html": [
       "<div>\n",
       "<style scoped>\n",
       "    .dataframe tbody tr th:only-of-type {\n",
       "        vertical-align: middle;\n",
       "    }\n",
       "\n",
       "    .dataframe tbody tr th {\n",
       "        vertical-align: top;\n",
       "    }\n",
       "\n",
       "    .dataframe thead th {\n",
       "        text-align: right;\n",
       "    }\n",
       "</style>\n",
       "<table border=\"1\" class=\"dataframe\">\n",
       "  <thead>\n",
       "    <tr style=\"text-align: right;\">\n",
       "      <th></th>\n",
       "      <th>AAPL</th>\n",
       "      <th>ADBE</th>\n",
       "      <th>AMD</th>\n",
       "      <th>MSFT</th>\n",
       "      <th>NFLX</th>\n",
       "    </tr>\n",
       "  </thead>\n",
       "  <tbody>\n",
       "    <tr>\n",
       "      <th>AAPL</th>\n",
       "      <td>0.001325</td>\n",
       "      <td>0.001255</td>\n",
       "      <td>0.001323</td>\n",
       "      <td>0.001272</td>\n",
       "      <td>0.000800</td>\n",
       "    </tr>\n",
       "    <tr>\n",
       "      <th>ADBE</th>\n",
       "      <td>0.001255</td>\n",
       "      <td>0.001540</td>\n",
       "      <td>0.001418</td>\n",
       "      <td>0.001359</td>\n",
       "      <td>0.001011</td>\n",
       "    </tr>\n",
       "    <tr>\n",
       "      <th>AMD</th>\n",
       "      <td>0.001323</td>\n",
       "      <td>0.001418</td>\n",
       "      <td>0.002109</td>\n",
       "      <td>0.001396</td>\n",
       "      <td>0.001035</td>\n",
       "    </tr>\n",
       "    <tr>\n",
       "      <th>MSFT</th>\n",
       "      <td>0.001272</td>\n",
       "      <td>0.001359</td>\n",
       "      <td>0.001396</td>\n",
       "      <td>0.001407</td>\n",
       "      <td>0.000878</td>\n",
       "    </tr>\n",
       "    <tr>\n",
       "      <th>NFLX</th>\n",
       "      <td>0.000800</td>\n",
       "      <td>0.001011</td>\n",
       "      <td>0.001035</td>\n",
       "      <td>0.000878</td>\n",
       "      <td>0.001090</td>\n",
       "    </tr>\n",
       "  </tbody>\n",
       "</table>\n",
       "</div>"
      ],
      "text/plain": [
       "          AAPL      ADBE       AMD      MSFT      NFLX\n",
       "AAPL  0.001325  0.001255  0.001323  0.001272  0.000800\n",
       "ADBE  0.001255  0.001540  0.001418  0.001359  0.001011\n",
       "AMD   0.001323  0.001418  0.002109  0.001396  0.001035\n",
       "MSFT  0.001272  0.001359  0.001396  0.001407  0.000878\n",
       "NFLX  0.000800  0.001011  0.001035  0.000878  0.001090"
      ]
     },
     "execution_count": 20,
     "metadata": {},
     "output_type": "execute_result"
    }
   ],
   "source": [
    "#create covariance matrix\n",
    "stocks_df.cov()"
   ]
  }
 ],
 "metadata": {
  "kernelspec": {
   "display_name": "Python 3",
   "language": "python",
   "name": "python3"
  },
  "language_info": {
   "codemirror_mode": {
    "name": "ipython",
    "version": 3
   },
   "file_extension": ".py",
   "mimetype": "text/x-python",
   "name": "python",
   "nbconvert_exporter": "python",
   "pygments_lexer": "ipython3",
   "version": "3.6.4"
  }
 },
 "nbformat": 4,
 "nbformat_minor": 2
}
