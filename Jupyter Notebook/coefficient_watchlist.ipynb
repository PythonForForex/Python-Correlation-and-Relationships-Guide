{
 "cells": [
  {
   "cell_type": "code",
   "execution_count": 1,
   "metadata": {},
   "outputs": [],
   "source": [
    "import pandas as pd\n",
    "from alpha_vantage.timeseries import TimeSeries"
   ]
  },
  {
   "cell_type": "code",
   "execution_count": 2,
   "metadata": {},
   "outputs": [],
   "source": [
    "#grab tickers from csv file\n",
    "watchlist_df = pd.read_csv('watchlist.csv', header=None)\n",
    "watchlist = watchlist_df.iloc[0].tolist()"
   ]
  },
  {
   "cell_type": "code",
   "execution_count": 3,
   "metadata": {},
   "outputs": [
    {
     "data": {
      "text/plain": [
       "['AAPL', 'MSFT', 'GLD', 'XOM', 'NFLX']"
      ]
     },
     "execution_count": 3,
     "metadata": {},
     "output_type": "execute_result"
    }
   ],
   "source": [
    "watchlist"
   ]
  },
  {
   "cell_type": "code",
   "execution_count": 4,
   "metadata": {},
   "outputs": [],
   "source": [
    "'''instantiate TimeSeries class from alpha_vantage library\n",
    "you must have API keys stored as environment variables for this to work\n",
    "check out the Alpha Vantage guide on the AlgoTrading 101 blog for more details'''\n",
    "app = TimeSeries(output_format='pandas')"
   ]
  },
  {
   "cell_type": "code",
   "execution_count": 19,
   "metadata": {},
   "outputs": [],
   "source": [
    "#itter through watchlist and retrieve daily price data\n",
    "stocks_df = pd.DataFrame()\n",
    "for ticker in watchlist:\n",
    "    alphav_df = app.get_daily_adjusted(ticker)\n",
    "    alphav_df = alphav_df[0]\n",
    "    alphav_df.columns = [i.split(' ')[1] for i in alphav_df.columns]\n",
    "\n",
    "    stocks_df[ticker] = alphav_df['adjusted'].pct_change()"
   ]
  },
  {
   "cell_type": "code",
   "execution_count": 20,
   "metadata": {},
   "outputs": [
    {
     "data": {
      "text/html": [
       "<div>\n",
       "<style scoped>\n",
       "    .dataframe tbody tr th:only-of-type {\n",
       "        vertical-align: middle;\n",
       "    }\n",
       "\n",
       "    .dataframe tbody tr th {\n",
       "        vertical-align: top;\n",
       "    }\n",
       "\n",
       "    .dataframe thead th {\n",
       "        text-align: right;\n",
       "    }\n",
       "</style>\n",
       "<table border=\"1\" class=\"dataframe\">\n",
       "  <thead>\n",
       "    <tr style=\"text-align: right;\">\n",
       "      <th></th>\n",
       "      <th>AAPL</th>\n",
       "      <th>MSFT</th>\n",
       "      <th>GLD</th>\n",
       "      <th>XOM</th>\n",
       "      <th>NFLX</th>\n",
       "    </tr>\n",
       "    <tr>\n",
       "      <th>date</th>\n",
       "      <th></th>\n",
       "      <th></th>\n",
       "      <th></th>\n",
       "      <th></th>\n",
       "      <th></th>\n",
       "    </tr>\n",
       "  </thead>\n",
       "  <tbody>\n",
       "    <tr>\n",
       "      <th>2020-05-15</th>\n",
       "      <td>-0.023019</td>\n",
       "      <td>-0.009464</td>\n",
       "      <td>0.007622</td>\n",
       "      <td>-0.073666</td>\n",
       "      <td>0.003557</td>\n",
       "    </tr>\n",
       "    <tr>\n",
       "      <th>2020-05-14</th>\n",
       "      <td>0.005947</td>\n",
       "      <td>-0.014359</td>\n",
       "      <td>-0.005612</td>\n",
       "      <td>0.007143</td>\n",
       "      <td>-0.026949</td>\n",
       "    </tr>\n",
       "    <tr>\n",
       "      <th>2020-05-13</th>\n",
       "      <td>-0.006106</td>\n",
       "      <td>-0.004321</td>\n",
       "      <td>-0.008772</td>\n",
       "      <td>-0.008747</td>\n",
       "      <td>-0.008327</td>\n",
       "    </tr>\n",
       "    <tr>\n",
       "      <th>2020-05-12</th>\n",
       "      <td>0.012222</td>\n",
       "      <td>0.015355</td>\n",
       "      <td>-0.009531</td>\n",
       "      <td>0.052230</td>\n",
       "      <td>-0.014717</td>\n",
       "    </tr>\n",
       "    <tr>\n",
       "      <th>2020-05-11</th>\n",
       "      <td>0.011560</td>\n",
       "      <td>0.023177</td>\n",
       "      <td>-0.003874</td>\n",
       "      <td>0.016670</td>\n",
       "      <td>0.020147</td>\n",
       "    </tr>\n",
       "  </tbody>\n",
       "</table>\n",
       "</div>"
      ],
      "text/plain": [
       "                AAPL      MSFT       GLD       XOM      NFLX\n",
       "date                                                        \n",
       "2020-05-15 -0.023019 -0.009464  0.007622 -0.073666  0.003557\n",
       "2020-05-14  0.005947 -0.014359 -0.005612  0.007143 -0.026949\n",
       "2020-05-13 -0.006106 -0.004321 -0.008772 -0.008747 -0.008327\n",
       "2020-05-12  0.012222  0.015355 -0.009531  0.052230 -0.014717\n",
       "2020-05-11  0.011560  0.023177 -0.003874  0.016670  0.020147"
      ]
     },
     "execution_count": 20,
     "metadata": {},
     "output_type": "execute_result"
    }
   ],
   "source": [
    "stocks_df = stocks_df[1:11] # Use only the last 10 days for example purposes\n",
    "stocks_df.head()"
   ]
  },
  {
   "cell_type": "code",
   "execution_count": 28,
   "metadata": {},
   "outputs": [
    {
     "data": {
      "text/plain": [
       "0.6817118707001117"
      ]
     },
     "execution_count": 28,
     "metadata": {},
     "output_type": "execute_result"
    }
   ],
   "source": [
    "#AAPL correlation with MSFT\n",
    "stocks_df.AAPL.corr(stocks_df.MSFT)"
   ]
  },
  {
   "cell_type": "code",
   "execution_count": 29,
   "metadata": {},
   "outputs": [
    {
     "data": {
      "text/plain": [
       "-0.1516151287428793"
      ]
     },
     "execution_count": 29,
     "metadata": {},
     "output_type": "execute_result"
    }
   ],
   "source": [
    "#AAPL correlation with NFLX\n",
    "stocks_df.AAPL.corr(stocks_df.NFLX)"
   ]
  },
  {
   "cell_type": "code",
   "execution_count": 30,
   "metadata": {},
   "outputs": [
    {
     "data": {
      "text/plain": [
       "-0.24444444444444444"
      ]
     },
     "execution_count": 30,
     "metadata": {},
     "output_type": "execute_result"
    }
   ],
   "source": [
    "#correlation using kendall method\n",
    "stocks_df.AAPL.corr(stocks_df.NFLX, method='kendall')"
   ]
  },
  {
   "cell_type": "code",
   "execution_count": 31,
   "metadata": {},
   "outputs": [
    {
     "data": {
      "text/plain": [
       "-0.32121212121212117"
      ]
     },
     "execution_count": 31,
     "metadata": {},
     "output_type": "execute_result"
    }
   ],
   "source": [
    "#correlation using spearman method\n",
    "stocks_df.AAPL.corr(stocks_df.NFLX, method='spearman')"
   ]
  },
  {
   "cell_type": "code",
   "execution_count": 32,
   "metadata": {},
   "outputs": [
    {
     "data": {
      "text/html": [
       "<div>\n",
       "<style scoped>\n",
       "    .dataframe tbody tr th:only-of-type {\n",
       "        vertical-align: middle;\n",
       "    }\n",
       "\n",
       "    .dataframe tbody tr th {\n",
       "        vertical-align: top;\n",
       "    }\n",
       "\n",
       "    .dataframe thead th {\n",
       "        text-align: right;\n",
       "    }\n",
       "</style>\n",
       "<table border=\"1\" class=\"dataframe\">\n",
       "  <thead>\n",
       "    <tr style=\"text-align: right;\">\n",
       "      <th></th>\n",
       "      <th>AAPL</th>\n",
       "      <th>MSFT</th>\n",
       "      <th>GLD</th>\n",
       "      <th>XOM</th>\n",
       "      <th>NFLX</th>\n",
       "    </tr>\n",
       "  </thead>\n",
       "  <tbody>\n",
       "    <tr>\n",
       "      <th>AAPL</th>\n",
       "      <td>1.000000</td>\n",
       "      <td>0.681712</td>\n",
       "      <td>-0.533378</td>\n",
       "      <td>0.762428</td>\n",
       "      <td>-0.151615</td>\n",
       "    </tr>\n",
       "    <tr>\n",
       "      <th>MSFT</th>\n",
       "      <td>0.681712</td>\n",
       "      <td>1.000000</td>\n",
       "      <td>-0.331221</td>\n",
       "      <td>0.445689</td>\n",
       "      <td>0.452704</td>\n",
       "    </tr>\n",
       "    <tr>\n",
       "      <th>GLD</th>\n",
       "      <td>-0.533378</td>\n",
       "      <td>-0.331221</td>\n",
       "      <td>1.000000</td>\n",
       "      <td>-0.348389</td>\n",
       "      <td>-0.054419</td>\n",
       "    </tr>\n",
       "    <tr>\n",
       "      <th>XOM</th>\n",
       "      <td>0.762428</td>\n",
       "      <td>0.445689</td>\n",
       "      <td>-0.348389</td>\n",
       "      <td>1.000000</td>\n",
       "      <td>-0.343662</td>\n",
       "    </tr>\n",
       "    <tr>\n",
       "      <th>NFLX</th>\n",
       "      <td>-0.151615</td>\n",
       "      <td>0.452704</td>\n",
       "      <td>-0.054419</td>\n",
       "      <td>-0.343662</td>\n",
       "      <td>1.000000</td>\n",
       "    </tr>\n",
       "  </tbody>\n",
       "</table>\n",
       "</div>"
      ],
      "text/plain": [
       "          AAPL      MSFT       GLD       XOM      NFLX\n",
       "AAPL  1.000000  0.681712 -0.533378  0.762428 -0.151615\n",
       "MSFT  0.681712  1.000000 -0.331221  0.445689  0.452704\n",
       "GLD  -0.533378 -0.331221  1.000000 -0.348389 -0.054419\n",
       "XOM   0.762428  0.445689 -0.348389  1.000000 -0.343662\n",
       "NFLX -0.151615  0.452704 -0.054419 -0.343662  1.000000"
      ]
     },
     "execution_count": 32,
     "metadata": {},
     "output_type": "execute_result"
    }
   ],
   "source": [
    "#correlation matrix\n",
    "stocks_df.corr()"
   ]
  },
  {
   "cell_type": "code",
   "execution_count": 33,
   "metadata": {},
   "outputs": [
    {
     "data": {
      "image/png": "[encoded data removed]",
      "text/plain": [
       "<Figure size 432x288 with 2 Axes>"
      ]
     },
     "metadata": {
      "needs_background": "light"
     },
     "output_type": "display_data"
    }
   ],
   "source": [
    "import seaborn as sns\n",
    "ax = sns.heatmap(stocks_df.corr())"
   ]
  },
  {
   "cell_type": "code",
   "execution_count": 34,
   "metadata": {},
   "outputs": [
    {
     "data": {
      "image/png": "[encoded data removed]",
      "text/plain": [
       "<Figure size 432x288 with 2 Axes>"
      ]
     },
     "metadata": {
      "needs_background": "light"
     },
     "output_type": "display_data"
    }
   ],
   "source": [
    "ax = sns.heatmap(stocks_df.corr(), cmap='RdYlGn', linewidths=.1)"
   ]
  },
  {
   "cell_type": "code",
   "execution_count": 16,
   "metadata": {},
   "outputs": [
    {
     "name": "stdout",
     "output_type": "stream",
     "text": [
      "MSFT\n"
     ]
    }
   ],
   "source": [
    "#strongest correlated stock with Netflix\n",
    "nflx_corr_df = stocks_df.corr().NFLX\n",
    "print(nflx_corr_df[ nflx_corr_df < 1 ].idxmax())"
   ]
  },
  {
   "cell_type": "code",
   "execution_count": 17,
   "metadata": {},
   "outputs": [
    {
     "name": "stdout",
     "output_type": "stream",
     "text": [
      "XOM\n"
     ]
    }
   ],
   "source": [
    "#least correlated with Netflix\n",
    "print(nflx_corr_df.idxmin())"
   ]
  },
  {
   "cell_type": "code",
   "execution_count": 18,
   "metadata": {},
   "outputs": [
    {
     "data": {
      "text/html": [
       "<div>\n",
       "<style scoped>\n",
       "    .dataframe tbody tr th:only-of-type {\n",
       "        vertical-align: middle;\n",
       "    }\n",
       "\n",
       "    .dataframe tbody tr th {\n",
       "        vertical-align: top;\n",
       "    }\n",
       "\n",
       "    .dataframe thead th {\n",
       "        text-align: right;\n",
       "    }\n",
       "</style>\n",
       "<table border=\"1\" class=\"dataframe\">\n",
       "  <thead>\n",
       "    <tr style=\"text-align: right;\">\n",
       "      <th></th>\n",
       "      <th>AAPL</th>\n",
       "      <th>MSFT</th>\n",
       "      <th>GLD</th>\n",
       "      <th>XOM</th>\n",
       "      <th>NFLX</th>\n",
       "    </tr>\n",
       "  </thead>\n",
       "  <tbody>\n",
       "    <tr>\n",
       "      <th>AAPL</th>\n",
       "      <td>0.000186</td>\n",
       "      <td>0.000117</td>\n",
       "      <td>-0.000075</td>\n",
       "      <td>0.000393</td>\n",
       "      <td>-0.000018</td>\n",
       "    </tr>\n",
       "    <tr>\n",
       "      <th>MSFT</th>\n",
       "      <td>0.000117</td>\n",
       "      <td>0.000165</td>\n",
       "      <td>-0.000045</td>\n",
       "      <td>0.000218</td>\n",
       "      <td>0.000104</td>\n",
       "    </tr>\n",
       "    <tr>\n",
       "      <th>GLD</th>\n",
       "      <td>-0.000075</td>\n",
       "      <td>-0.000045</td>\n",
       "      <td>0.000085</td>\n",
       "      <td>-0.000121</td>\n",
       "      <td>-0.000003</td>\n",
       "    </tr>\n",
       "    <tr>\n",
       "      <th>XOM</th>\n",
       "      <td>0.000393</td>\n",
       "      <td>0.000218</td>\n",
       "      <td>-0.000121</td>\n",
       "      <td>0.001245</td>\n",
       "      <td>-0.000198</td>\n",
       "    </tr>\n",
       "    <tr>\n",
       "      <th>NFLX</th>\n",
       "      <td>-0.000018</td>\n",
       "      <td>0.000104</td>\n",
       "      <td>-0.000003</td>\n",
       "      <td>-0.000198</td>\n",
       "      <td>0.000205</td>\n",
       "    </tr>\n",
       "  </tbody>\n",
       "</table>\n",
       "</div>"
      ],
      "text/plain": [
       "          AAPL      MSFT       GLD       XOM      NFLX\n",
       "AAPL  0.000186  0.000117 -0.000075  0.000393 -0.000018\n",
       "MSFT  0.000117  0.000165 -0.000045  0.000218  0.000104\n",
       "GLD  -0.000075 -0.000045  0.000085 -0.000121 -0.000003\n",
       "XOM   0.000393  0.000218 -0.000121  0.001245 -0.000198\n",
       "NFLX -0.000018  0.000104 -0.000003 -0.000198  0.000205"
      ]
     },
     "execution_count": 18,
     "metadata": {},
     "output_type": "execute_result"
    }
   ],
   "source": [
    "#create covariance matrix\n",
    "stocks_df.cov()"
   ]
  }
 ],
 "metadata": {
  "kernelspec": {
   "display_name": "Python 3",
   "language": "python",
   "name": "python3"
  },
  "language_info": {
   "codemirror_mode": {
    "name": "ipython",
    "version": 3
   },
   "file_extension": ".py",
   "mimetype": "text/x-python",
   "name": "python",
   "nbconvert_exporter": "python",
   "pygments_lexer": "ipython3",
   "version": "3.6.4"
  }
 },
 "nbformat": 4,
 "nbformat_minor": 2
}
